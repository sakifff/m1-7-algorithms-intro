{
 "cells": [
  {
   "cell_type": "markdown",
   "metadata": {
    "colab_type": "text",
    "id": "c8zuAcfM5lDz"
   },
   "source": [
    "# 1. Big-O Theory exercises\n",
    "\n",
    "1. What is the big-O of the following algorithm? Assume `A` is an array of numbers\n",
    "\n",
    "```python\n",
    "def number_in_array(A, num):\n",
    "  for i in range(len(A)):\n",
    "    if A[i] == num:\n",
    "      return True\n",
    "  return False\n",
    "```\n",
    "\n",
    "2. What is the big-O of the following algorithm? Assume `A` and `B` are arrays of numbers of the **same length n**\n",
    "\n",
    "```python\n",
    "def number_in_two_arrays(A, B, num):\n",
    "  arr_len = len(A)\n",
    "  for i in range(arr_len):\n",
    "    if A[i] == num:\n",
    "      return True\n",
    "  for i in range(arr_len):\n",
    "    if B[i] == num:\n",
    "      return True\n",
    "  return False\n",
    "```\n",
    "\n",
    "3. What would be the big-O above if `A` was length `n` and `B` was length `m`?\n",
    "\n",
    "4. What is the big-O of the following algorithm? Assume `A` and `B` are arrays of numbers of the **same length n**\n",
    "\n",
    "```python\n",
    "def number_in_two_arrays(A, B, num):\n",
    "  arr_len = len(A)\n",
    "  for i in range(arr_len):\n",
    "    for j in range(arr_len):\n",
    "    if A[i] == B[j]:\n",
    "      return True\n",
    "  return False\n",
    "```"
   ]
  },
  {
   "cell_type": "markdown",
   "metadata": {},
   "source": [
    "1) This algorithm is of linear complexity and can be denoted by O(n). This is because the steps required to complete the execution of the algorithm increase or decrease with the number of inputs.\n",
    "\n",
    "2) This algorithm is of linear complexity so it is denoted by O(n). Since the loops are not nested within each other, it remains linear as the time taken for the algorithm depends on the number of inputs\n",
    "\n",
    "3) This does not change the complexity of the algorithm. Changing the length of the list only changes the time it may take to iterate over it\n",
    "\n",
    "4) This algorithmn is of quadratic complexity and can be denoted by O(n ** 2). This is because there is an outer for loop that iterates through the range of arr_len and then a nested inner for loop which iterates through the range of arr_len, making the total number of steps performed to be n * n."
   ]
  },
  {
   "cell_type": "markdown",
   "metadata": {
    "colab_type": "text",
    "id": "4lz1Ha-E_CQ1"
   },
   "source": [
    "# Reverse Sort\n",
    "\n",
    "Rewrite `selection_sort` so that it sorts in **reverse order** instead (biggest element first, smallest last)"
   ]
  },
  {
   "cell_type": "code",
   "execution_count": 72,
   "metadata": {},
   "outputs": [
    {
     "data": {
      "text/plain": [
       "[777, 111, 66.6, 44.4, 22, 5, 4, 3]"
      ]
     },
     "execution_count": 72,
     "metadata": {},
     "output_type": "execute_result"
    }
   ],
   "source": [
    "def linear_search(arr):\n",
    "    current_max = 0\n",
    "    current_max_idx = 0\n",
    "    for i in range(len(arr)):\n",
    "        if arr[i] > current_max:\n",
    "            current_max = arr[i]\n",
    "            current_max_idx = i\n",
    "    return current_max_idx\n",
    "\n",
    "def selection_sort(arr):\n",
    "    n_sorted = 0\n",
    "    while n_sorted < len(arr):\n",
    "        max_idx = linear_search(arr[n_sorted:]) + n_sorted\n",
    "        to_swap = arr[n_sorted]\n",
    "        arr[n_sorted] = arr[max_idx]\n",
    "        arr[max_idx] = to_swap\n",
    "        n_sorted += 1\n",
    "        \n",
    "arr = [111,4,3,22,5,44.4,66.6,777]\n",
    "selection_sort(arr)\n",
    "arr"
   ]
  },
  {
   "cell_type": "markdown",
   "metadata": {
    "colab": {},
    "colab_type": "code",
    "id": "kLzOQr8tAAIG"
   },
   "source": [
    "# Two sum (Brute Force)\n",
    "\n",
    "Two sum. Given an array and a number N, return True if there are numbers A, B in the array such that A + B = N. Otherwise, return False.\n",
    "\n",
    "```\n",
    "two_sum([1, 2, 3, 4], 5) ⇒ True\n",
    "two_sum([3, 4, 6], 6) ⇒ False\n",
    "```\n",
    "\n",
    "Write a brute force $O(n^2)$ algorithm"
   ]
  },
  {
   "cell_type": "code",
   "execution_count": 14,
   "metadata": {},
   "outputs": [
    {
     "name": "stdout",
     "output_type": "stream",
     "text": [
      "True\n",
      "False\n"
     ]
    }
   ],
   "source": [
    "def two_sum_quadratic(arr, n):\n",
    "    for i in range(len(arr)):\n",
    "        for j in range(i + 1, len(arr)):\n",
    "            if arr[i] + arr[j] == n:\n",
    "                return True\n",
    "            \n",
    "    return False    \n",
    "\n",
    "print(two_sum_quadratic([1, 2, 3, 4], 5)) \n",
    "print(two_sum_quadratic([3, 4, 6], 6))"
   ]
  },
  {
   "cell_type": "markdown",
   "metadata": {},
   "source": [
    "# Two Sum (Fast Version)\n",
    "\n",
    "Write a linear time version $O(N)$ for the two sum problem"
   ]
  },
  {
   "cell_type": "code",
   "execution_count": 13,
   "metadata": {},
   "outputs": [
    {
     "name": "stdout",
     "output_type": "stream",
     "text": [
      "False\n",
      "True\n"
     ]
    }
   ],
   "source": [
    "# Used this to learn hash tables: https://www.youtube.com/watch?v=zHi5v78W1f0\n",
    "\n",
    "def two_sum_linear(arr, n):\n",
    "    dictionary = {}\n",
    "\n",
    "    for i in range(len(arr)):\n",
    "        difference = n - arr[i]\n",
    "        if difference in dictionary:\n",
    "            return True\n",
    "        dictionary[arr[i]] = i\n",
    "\n",
    "    return False\n",
    "\n",
    "\n",
    "print(two_sum_linear([3, 4, 6], 6))\n",
    "print(two_sum_linear([1, 2, 3, 4], 5)) "
   ]
  },
  {
   "cell_type": "markdown",
   "metadata": {},
   "source": [
    "# Two Sum (itertools version)\n",
    "\n",
    "Use `itertools.combinations` to write a $O(N)$ algorithm for two sum"
   ]
  },
  {
   "cell_type": "code",
   "execution_count": 19,
   "metadata": {},
   "outputs": [
    {
     "name": "stdout",
     "output_type": "stream",
     "text": [
      "False\n",
      "True\n"
     ]
    }
   ],
   "source": [
    "from itertools import combinations\n",
    "\n",
    "def two_sum(arr, n):\n",
    "    for i in list(combinations(arr, 2)):\n",
    "        a, b = i\n",
    "        if a + b == n:\n",
    "            return True\n",
    "        \n",
    "    return False\n",
    "        \n",
    "print(two_sum([3, 4, 6], 6))\n",
    "print(two_sum([1, 2, 3, 4], 5))"
   ]
  },
  {
   "cell_type": "markdown",
   "metadata": {},
   "source": [
    "# Linked Lists\n",
    "\n",
    "Unlike a regular array, a [Linked List](https://en.wikipedia.org/wiki/Linked_list) is a container where inserting a new element somewhere in the middle is $O(1)$. \n",
    "\n",
    "For a regular array inserting an element in the middle is $O(N)$, because we need to \"shift back\" all the elements after it. In practice, we might also have to allocate new memory to fit in the element.\n",
    "\n",
    "A linked list is a series of elements, `Node(value, next)` which work as follows:\n",
    "\n",
    "- The `value` field is the element value -- python object at that place in the list (like elements in a python `list`)\n",
    "\n",
    "- The `next` field points to the next element in the linked list. In python holding a reference to the element does this (the same way a python list holds references to objects)\n",
    "\n",
    "### Exercise\n",
    "\n",
    "Implement the `Node` Class as described above then initialize a list with 5 elements `(3 -> 'cat' -> 'dog' -> 55 -> 56)`"
   ]
  },
  {
   "cell_type": "code",
   "execution_count": 28,
   "metadata": {},
   "outputs": [
    {
     "data": {
      "text/plain": [
       "3 -> cat -> dog -> 55 -> 56 -> None"
      ]
     },
     "execution_count": 28,
     "metadata": {},
     "output_type": "execute_result"
    }
   ],
   "source": [
    "class Node:\n",
    "    def __init__(self, values):\n",
    "        self.values = values\n",
    "        self.next = None\n",
    "        \n",
    "    def __repr__(self):\n",
    "        return self.values\n",
    "        \n",
    "class LinkedList:\n",
    "    def __init__(self):\n",
    "        self.head = None\n",
    "    \n",
    "    def __repr__(self):\n",
    "        node = self.head\n",
    "        nodes = []\n",
    "        while node is not None:\n",
    "            nodes.append(node.values)\n",
    "            node = node.next\n",
    "        nodes.append(\"None\")\n",
    "        return \" -> \".join(nodes)\n",
    "        \n",
    "linked_list = LinkedList()\n",
    "\n",
    "first_node = Node(str(3))\n",
    "second_node = Node('cat')\n",
    "third_node = Node('dog')\n",
    "fourth_node = Node(str(55))\n",
    "fifth_node = Node(str(56))\n",
    "\n",
    "linked_list.head = first_node\n",
    "first_node.next = second_node\n",
    "second_node.next = third_node\n",
    "third_node.next = fourth_node\n",
    "fourth_node.next = fifth_node\n",
    "\n",
    "linked_list"
   ]
  },
  {
   "cell_type": "markdown",
   "metadata": {},
   "source": [
    "# Reversing a linked list\n",
    "\n",
    "Write a $O(N)$ function `reverse_ll` that reverses all the pointers in a linked list:\n",
    "\n",
    "```\n",
    "(a -> b -> c) ⇒ (c -> b -> a)\n",
    "```\n",
    "\n",
    "Note: You don't have to reverse their order in the python tuple/list if that's where you're holding them. Just reverse their `Node` pointers to each other"
   ]
  },
  {
   "cell_type": "code",
   "execution_count": 34,
   "metadata": {},
   "outputs": [
    {
     "name": "stdout",
     "output_type": "stream",
     "text": [
      "a -> b -> c -> None\n"
     ]
    },
    {
     "data": {
      "text/plain": [
       "c -> b -> a -> None"
      ]
     },
     "execution_count": 34,
     "metadata": {},
     "output_type": "execute_result"
    }
   ],
   "source": [
    "class Node:\n",
    "    def __init__(self, values):\n",
    "        self.values = values\n",
    "        self.next = None\n",
    "        \n",
    "    def __repr__(self):\n",
    "        return self.values\n",
    "        \n",
    "class LinkedList:\n",
    "    def __init__(self):\n",
    "        self.head = None\n",
    "    \n",
    "    def __repr__(self):\n",
    "        node = self.head\n",
    "        nodes = []\n",
    "        while node is not None:\n",
    "            nodes.append(node.values)\n",
    "            node = node.next\n",
    "        nodes.append(\"None\")\n",
    "        return \" -> \".join(nodes)\n",
    "    \n",
    "    def reverse_ll(self):\n",
    "        x = None\n",
    "        y = self.head\n",
    "        while y is not None:\n",
    "            z = y.next\n",
    "            y.next = x\n",
    "            x = y\n",
    "            y = z\n",
    "        self.head = x\n",
    "        \n",
    "linked_list = LinkedList()\n",
    "\n",
    "first_node = Node('a')\n",
    "second_node = Node('b')\n",
    "third_node = Node('c')\n",
    "\n",
    "linked_list.head = first_node\n",
    "first_node.next = second_node\n",
    "second_node.next = third_node\n",
    "\n",
    "print(linked_list)\n",
    "linked_list.reverse_ll()\n",
    "linked_list"
   ]
  }
 ],
 "metadata": {
  "colab": {
   "authorship_tag": "ABX9TyOATH9BoLFARMvG0o+Vj9NT",
   "collapsed_sections": [],
   "name": "Algorithms 1 Workshop.ipynb",
   "provenance": []
  },
  "kernelspec": {
   "display_name": "Python 3",
   "language": "python",
   "name": "python3"
  },
  "language_info": {
   "codemirror_mode": {
    "name": "ipython",
    "version": 3
   },
   "file_extension": ".py",
   "mimetype": "text/x-python",
   "name": "python",
   "nbconvert_exporter": "python",
   "pygments_lexer": "ipython3",
   "version": "3.8.3"
  }
 },
 "nbformat": 4,
 "nbformat_minor": 1
}
